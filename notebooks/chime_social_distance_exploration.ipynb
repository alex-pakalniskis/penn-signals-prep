{
 "cells": [
  {
   "cell_type": "code",
   "execution_count": 2,
   "metadata": {},
   "outputs": [],
   "source": [
    "import pandas as pd\n",
    "import numpy as np"
   ]
  },
  {
   "cell_type": "markdown",
   "metadata": {},
   "source": [
    "# Estimate social interaction reductions of PC, Non-essential, and Social Distancing"
   ]
  },
  {
   "cell_type": "markdown",
   "metadata": {},
   "source": [
    "https://www.ncbi.nlm.nih.gov/pmc/articles/PMC6113687/\n",
    "\n",
    "At the individual level, participants reported, on average, 2.4 social interactions at each momentary assessment (that is, approximately 12 social interactions per day). In terms of partner type, participants reported that 45% of their most recent social interactions were with one or more family members, 25% were with friends and 30% were with peripheral relationship partners. "
   ]
  },
  {
   "cell_type": "raw",
   "metadata": {},
   "source": [
    "Philly area population\n",
    "Everyone: 3,605,688\n",
    "adults_18: 2,831,376\n",
    "20% kids"
   ]
  },
  {
   "cell_type": "code",
   "execution_count": 3,
   "metadata": {},
   "outputs": [],
   "source": [
    "kid_to_adult_ratio = 0.2\n",
    "num_adults = 100\n",
    "num_kids = num_adults*kid_to_adult_ratio"
   ]
  },
  {
   "cell_type": "markdown",
   "metadata": {},
   "source": [
    "# Effect Methods"
   ]
  },
  {
   "cell_type": "code",
   "execution_count": 4,
   "metadata": {},
   "outputs": [],
   "source": [
    "def pc_reduction_effect(num_kids_interactions,\n",
    "                        kids_other,school_ratio\n",
    "                       ):\n",
    "    # Scale the reduction by removing school interactios\n",
    "    return num_kids_interactions*kids_other*school_ratio"
   ]
  },
  {
   "cell_type": "code",
   "execution_count": 5,
   "metadata": {},
   "outputs": [],
   "source": [
    "def nonessential_effect(num_adult_interactions, \n",
    "                        num_kids_interactions, kids_nonessential,\n",
    "                        adults_nonessential):\n",
    "    # Scale the reduction by removing nonessential interactions\n",
    "    kid_reduc = num_kids_interactions*kids_nonessential\n",
    "    adult_reduc = num_adult_interactions*adults_nonessential\n",
    "    return kid_reduc+adult_reduc"
   ]
  },
  {
   "cell_type": "code",
   "execution_count": 6,
   "metadata": {},
   "outputs": [],
   "source": [
    "def social_distancing_effect(num_adult_interactions, num_kids_interactions, \n",
    "                             kids_nonessential, adults_nonessential,\n",
    "                             kids_friends, mid_adults_friends,\n",
    "                             sd_effectiviness):\n",
    "    # Scale the reduction by sd_effectiviness rate from \n",
    "    # friends and nonessential interactions\n",
    "\n",
    "    kid_reduc = num_kids_interactions*(kids_nonessential+kids_friends)*sd_effectiviness\n",
    "    adult_reduc = num_adult_interactions*(adults_nonessential+mid_adults_friends)*sd_effectiviness\n",
    "    return kid_reduc+adult_reduc"
   ]
  },
  {
   "cell_type": "markdown",
   "metadata": {},
   "source": [
    "## Parameters based on paper"
   ]
  },
  {
   "cell_type": "code",
   "execution_count": 7,
   "metadata": {},
   "outputs": [],
   "source": [
    "# Average number of interaction by people a day\n",
    "number_of_interactions = 12\n",
    "num_kids_interactions = num_kids*number_of_interactions\n",
    "num_adult_interactions = num_adults*number_of_interactions\n",
    "# Adult ratios of interaction based on paper\n",
    "mid_adults_family = 0.4\n",
    "mid_adults_friends = 0.3\n",
    "mid_adults_other = 1 - (mid_adults_family + mid_adults_friends)\n",
    "adults_nonessential = mid_adults_other*0.3\n",
    "adults_essentail = mid_adults_other-adults_nonessential\n",
    "\n",
    "# Kids ratios of interaction based on paper\n",
    "kids_family = 0.45\n",
    "kids_friends = 0.2\n",
    "kids_other = 1 - (kids_family + kids_friends)\n",
    "school_ratio = 0.70 # 70% of a kids 'other' interaction besides family and friends.\n",
    "school = kids_other*school_ratio\n",
    "kids_nonessential = (kids_other - school)*0.4\n",
    "kids_essentail = (kids_other - school)-kids_nonessential"
   ]
  },
  {
   "cell_type": "code",
   "execution_count": null,
   "metadata": {},
   "outputs": [],
   "source": []
  },
  {
   "cell_type": "markdown",
   "metadata": {},
   "source": [
    "# Based on above assumptions, explore im reduction in interations"
   ]
  },
  {
   "cell_type": "code",
   "execution_count": 23,
   "metadata": {},
   "outputs": [],
   "source": [
    "# Take a guess at levels of social contact reduction beyond closing institutions (schools & non-essential business)\n",
    "# \n",
    "sd_policy = {'six_feet_guidelines':0.30, \"stay_at_home\": 0.75}\n",
    "\n",
    "sd_effectiviness = sd_policy[\"stay_at_home\"] # (Recommened reductions, work from home etc) reduce interaction of nonessential and friends\n",
    "\n",
    "\n",
    "kids_pc_reduc = pc_reduction_effect(num_kids_interactions, kids_other, school_ratio)\n",
    "\n",
    "nonessential_reduc = nonessential_effect(num_adult_interactions, \n",
    "                                         num_kids_interactions, kids_nonessential,\n",
    "                                         adults_nonessential)\n",
    "\n",
    "sd_reduc = social_distancing_effect(num_adult_interactions, num_kids_interactions, \n",
    "                             kids_nonessential, adults_nonessential,\n",
    "                             kids_friends, mid_adults_friends,\n",
    "                             sd_effectiviness)"
   ]
  },
  {
   "cell_type": "code",
   "execution_count": 24,
   "metadata": {},
   "outputs": [],
   "source": [
    "total_interactions = num_kids_interactions+num_adult_interactions"
   ]
  },
  {
   "cell_type": "code",
   "execution_count": 25,
   "metadata": {},
   "outputs": [
    {
     "name": "stdout",
     "output_type": "stream",
     "text": [
      "pc_reduction rate 0.04083333333333328\n",
      "nonessential_reduc rate 0.08199999999999996\n",
      "sd_reduc rate 0.21920000000000006\n",
      "pc_non_sd 0.3420333333333333\n"
     ]
    }
   ],
   "source": [
    "pc_reduc_rate = 1-(total_interactions-kids_pc_reduc)/total_interactions\n",
    "nonessential_reduc_rate = 1-(total_interactions-nonessential_reduc)/total_interactions\n",
    "sd_reduc_rate = 1-(total_interactions-sd_reduc)/total_interactions\n",
    "print('pc_reduction rate', pc_reduc_rate)\n",
    "print('nonessential_reduc rate', nonessential_reduc_rate)\n",
    "print('sd_reduc rate', sd_reduc_rate)\n",
    "\n",
    "print('pc_non_sd', pc_reduc_rate+nonessential_reduc_rate+sd_reduc_rate)"
   ]
  },
  {
   "cell_type": "code",
   "execution_count": null,
   "metadata": {},
   "outputs": [],
   "source": []
  }
 ],
 "metadata": {
  "kernelspec": {
   "display_name": "Python 3",
   "language": "python",
   "name": "python3"
  },
  "language_info": {
   "codemirror_mode": {
    "name": "ipython",
    "version": 3
   },
   "file_extension": ".py",
   "mimetype": "text/x-python",
   "name": "python",
   "nbconvert_exporter": "python",
   "pygments_lexer": "ipython3",
   "version": "3.6.8"
  }
 },
 "nbformat": 4,
 "nbformat_minor": 2
}
