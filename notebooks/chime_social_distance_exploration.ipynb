{
 "cells": [
  {
   "cell_type": "markdown",
   "metadata": {},
   "source": [
    "# Estimating Social Interaction Reductions Induced By Social Distancing and School and Non-essential Business Closures"
   ]
  },
  {
   "cell_type": "markdown",
   "metadata": {},
   "source": [
    "### Quantifying Social Interactions\n",
    "\n",
    "**Zhaoyang R, Sliwinski MJ, Martire LM, Smyth JM.** Age differences in adults' daily social interactions: An ecological momentary assessment study. Psychol Aging. 2018;33(4):607–618. doi:10.1037/pag0000242\n",
    "\n",
    "**Synopsis**: At the individual level, participants reported, on average, 2.4 social interactions at each momentary assessment (that is, approximately 12 social interactions per day). In terms of partner type, participants reported that 45% of their most recent social interactions were with one or more family members, 25% were with friends and 30% were with peripheral relationship partners. \n",
    "\n",
    "| Parameters | Values |\n",
    "|---|---|\n",
    "| Average Interactions a day | 12 |\n",
    "| Adult Interaction Ratios | Family (40%), Friends (30), Other (30%) |\n",
    "| Child Interaction Ratios | Family (45%), Friends (20), Other (35%) |\n",
    "\n",
    "\n",
    "| Parameters | Ratio of Other Interactions |\n",
    "|---|---|\n",
    "| Kids | 70% school , 12% nonessential , 18% essential |\n",
    "| Adults | 30% essential, 70% nonessential |\n",
    "\n",
    "\n",
    "\n",
    "Article found at: https://www.ncbi.nlm.nih.gov/pmc/articles/PMC6113687/\n",
    "\n",
    "Penn Medicine Predictive Healthcare Blog Post (relevant acronyms): http://predictivehealthcare.pennmedicine.org/2020/03/18/compare-chime.html\n",
    "\n",
    "### Philadelphia, Pennsylvania Area Population Breakdown (WHAT IS THE SOURCE?)\n",
    "\n",
    "**Everyone**: 3,605,688\n",
    "\n",
    "**Adults, 18+**: 2,831,376\n",
    "\n",
    "20% of population are children (<18)\n",
    "\n",
    "### Parameters Based On Zhaoyang et al. 2018\n"
   ]
  },
  {
   "cell_type": "code",
   "execution_count": 3,
   "metadata": {},
   "outputs": [],
   "source": [
    "kid_to_adult_ratio = 0.2\n",
    "num_adults = 100\n",
    "num_kids = num_adults*kid_to_adult_ratio\n",
    "\n",
    "# Average number of interaction by people a day\n",
    "number_of_interactions = 12\n",
    "num_kids_interactions = num_kids*number_of_interactions\n",
    "num_adult_interactions = num_adults*number_of_interactions\n",
    "\n",
    "# Adult ratios of interaction based on paper\n",
    "mid_adults_family = 0.4\n",
    "mid_adults_friends = 0.3\n",
    "mid_adults_other = 1 - (mid_adults_family + mid_adults_friends)\n",
    "adults_nonessential = mid_adults_other*0.3\n",
    "adults_essentail = mid_adults_other-adults_nonessential\n",
    "\n",
    "# Kids ratios of interaction based on paper\n",
    "kids_family = 0.45\n",
    "kids_friends = 0.2\n",
    "kids_other = 1 - (kids_family + kids_friends)\n",
    "school_ratio = 0.70 # 70% of a kids 'other' interaction besides family and friends.\n",
    "school = kids_other*school_ratio\n",
    "kids_nonessential = (kids_other - school)*0.4 #shouldn't the 0.4 be 0.12?\n",
    "kids_essentail = (kids_other - school)-kids_nonessential"
   ]
  },
  {
   "cell_type": "markdown",
   "metadata": {},
   "source": [
    "# Effect Methods Classes"
   ]
  },
  {
   "cell_type": "code",
   "execution_count": 81,
   "metadata": {},
   "outputs": [],
   "source": [
    "from abc import ABC \n",
    "import pandas as pd\n",
    "import numpy as np\n",
    "\n",
    "\n",
    "class AdministrativeRegion(ABC):\n",
    "    \n",
    "    def attributes(self):\n",
    "        pass\n",
    "    \n",
    "    \n",
    "class City(AdministrativeRegion):\n",
    "    \n",
    "    def attributes(self, \n",
    "                   name, \n",
    "                   sd_policy_dictionary, \n",
    "                   sd_policy,\n",
    "                   num_adults, \n",
    "                   kid_to_adult_ratio, \n",
    "                   number_of_interactions, \n",
    "                   mid_adults_family, \n",
    "                   mid_adults_friends, \n",
    "                   adults_nonessential_rate, \n",
    "                   kids_family, \n",
    "                   kids_friends, \n",
    "                   school_ratio, \n",
    "                   kids_nonessential_rate):\n",
    "        \n",
    "        self.name = name\n",
    "        self.sd_policy_dictionary = sd_policy_dictionary\n",
    "        self.sd_policy = sd_policy\n",
    "        \n",
    "        self.num_adults = num_adults\n",
    "        self.kid_to_adult_ratio = kid_to_adult_ratio\n",
    "        self.number_of_interactions = number_of_interactions\n",
    "        self.mid_adults_family = mid_adults_family\n",
    "        self.mid_adults_friends = mid_adults_friends\n",
    "        self.adults_nonessential_rate = adults_nonessential_rate\n",
    "        self.kids_family = kids_family\n",
    "        self.kids_friends = kids_friends\n",
    "        self.school_ratio = school_ratio\n",
    "        self.kids_nonessential_rate = kids_nonessential_rate\n",
    "        \n",
    "        self.sd_effectiviness = self.sd_policy_dictionary[self.sd_policy]\n",
    "        self.num_adult_interactions = self.num_adults * self.number_of_interactions\n",
    "        self.mid_adults_other = 1 - (self.mid_adults_family + self.mid_adults_friends)\n",
    "        self.adults_nonessential_other = self.mid_adults_other * self.adults_nonessential_rate\n",
    "        self.adults_essential_other = self.mid_adults_other - self.adults_nonessential_other\n",
    "        \n",
    "        self.num_kids = self.num_adults * self.kid_to_adult_ratio\n",
    "        self.num_kids_interactions = self.num_kids * self.number_of_interactions\n",
    "        self.kids_other = 1 - (self.kids_family + self.kids_friends)\n",
    "        self.school = self.kids_other * self.school_ratio    \n",
    "        self.kids_nonessential_other = (self.kids_other - self.school) * 0.4 #Shouldn't this be 0.12 per table above? #ToDo create new attribute for true value\n",
    "        self.kids_essential_other = (self.kids_other - self.school) - self.kids_nonessential_other\n",
    "        self.total_interactions = self.num_kids_interactions + self.num_adult_interactions\n",
    "\n",
    "        return self\n",
    "    \n",
    "\n",
    "class SocialInteraction(ABC): \n",
    "  \n",
    "    def effect(self): \n",
    "        pass\n",
    "    \n",
    "\n",
    "class SchoolClosures(SocialInteraction):\n",
    "    \n",
    "    def effect(self,\n",
    "               AdministrativeRegion):\n",
    "        \n",
    "        self.num_kids_interactions = AdministrativeRegion.num_kids_interactions\n",
    "        self.kids_other = AdministrativeRegion.kids_other\n",
    "        self.school_ratio = AdministrativeRegion.school_ratio\n",
    "        \n",
    "        return self.num_kids_interactions * self.kids_other * self.school_ratio\n",
    "    \n",
    "\n",
    "class NonessentialBusinessClosures(SocialInteraction):\n",
    "    \n",
    "    def effect(self,\n",
    "               AdministrativeRegion):\n",
    "        \n",
    "        self.num_adult_interactions = AdministrativeRegion.num_adult_interactions\n",
    "        self.num_kids_interactions = AdministrativeRegion.num_kids_interactions\n",
    "        self.adults_nonessential_other= AdministrativeRegion.adults_nonessential_other\n",
    "        self.kids_nonessential_other = AdministrativeRegion.kids_nonessential_other\n",
    "        \n",
    "        self.kid_reduc = self.num_kids_interactions * self.kids_nonessential_other\n",
    "        self.adult_reduc = self.num_adult_interactions * self.adults_nonessential_other\n",
    "        \n",
    "        return self.kid_reduc + self.adult_reduc\n",
    "    \n",
    "\n",
    "class SocialDistancing(SocialInteraction):\n",
    "    \n",
    "    def effect(self,\n",
    "               AdministrativeRegion):\n",
    "        \n",
    "        self.num_adult_interactions = AdministrativeRegion.num_adult_interactions\n",
    "        self.num_kids_interactions = AdministrativeRegion.num_kids_interactions\n",
    "        self.kids_nonessential = AdministrativeRegion.kids_nonessential_other\n",
    "        self.adults_nonessential = AdministrativeRegion.adults_nonessential_other\n",
    "        self.kids_friends= AdministrativeRegion.kids_friends\n",
    "        self.mid_adults_friends= AdministrativeRegion.mid_adults_friends\n",
    "        self.sd_effectiviness = AdministrativeRegion.sd_effectiviness\n",
    "        \n",
    "        self.kid_reduc = self.num_kids_interactions * (self.kids_nonessential + self.kids_friends) * self.sd_effectiviness\n",
    "        self.adult_reduc = self.num_adult_interactions * (self.adults_nonessential + self.mid_adults_friends) * self.sd_effectiviness\n",
    "        \n",
    "        return self.kid_reduc + self.adult_reduc\n",
    "    \n",
    "    \n",
    "\n",
    "        "
   ]
  },
  {
   "cell_type": "markdown",
   "metadata": {},
   "source": [
    "### Instantiation"
   ]
  },
  {
   "cell_type": "code",
   "execution_count": 82,
   "metadata": {},
   "outputs": [],
   "source": [
    "philly = City().attributes(name=\"Philadelphia, Pennsylvania\", \n",
    "                           sd_policy_dictionary={'six_feet_guidelines':0.30, \n",
    "                                                \"stay_at_home\": 0.75}, \n",
    "                           sd_policy=\"stay_at_home\",\n",
    "                           num_adults=2831376, \n",
    "                           kid_to_adult_ratio=0.2, \n",
    "                           number_of_interactions=12, \n",
    "                           mid_adults_family=0.4, \n",
    "                           mid_adults_friends=0.3, \n",
    "                           adults_nonessential_rate=0.3, \n",
    "                           kids_family=0.45, \n",
    "                           kids_friends=0.2, \n",
    "                           school_ratio=0.7, \n",
    "                           kids_nonessential_rate=0.4)"
   ]
  },
  {
   "cell_type": "code",
   "execution_count": 97,
   "metadata": {},
   "outputs": [
    {
     "name": "stdout",
     "output_type": "stream",
     "text": [
      "kids_pc_reduc 1664849.0879999998\n"
     ]
    }
   ],
   "source": [
    "kids_pc_reduc = SchoolClosures().effect(philly)\n",
    "print(\"kids_pc_reduc\",kids_pc_reduc)"
   ]
  },
  {
   "cell_type": "code",
   "execution_count": 98,
   "metadata": {},
   "outputs": [
    {
     "name": "stdout",
     "output_type": "stream",
     "text": [
      "nonessential_reduc 3343288.7808000008\n"
     ]
    }
   ],
   "source": [
    "nonessential_reduc = NonessentialBusinessClosures().effect(philly)\n",
    "print(\"nonessential_reduc\",nonessential_reduc)"
   ]
  },
  {
   "cell_type": "code",
   "execution_count": 99,
   "metadata": {},
   "outputs": [
    {
     "name": "stdout",
     "output_type": "stream",
     "text": [
      "sd_reduc 11171477.1456\n"
     ]
    }
   ],
   "source": [
    "sd_reduc = SocialDistancing().effect(philly)\n",
    "print(\"sd_reduc\",sd_reduc)"
   ]
  },
  {
   "cell_type": "code",
   "execution_count": 92,
   "metadata": {},
   "outputs": [
    {
     "name": "stdout",
     "output_type": "stream",
     "text": [
      "pc_reduction rate 0.04083333333333328\n"
     ]
    }
   ],
   "source": [
    "pc_reduc_rate = 1-(philly.total_interactions-kids_pc_reduc)/philly.total_interactions\n",
    "print('pc_reduction rate', pc_reduc_rate)\n"
   ]
  },
  {
   "cell_type": "code",
   "execution_count": 93,
   "metadata": {},
   "outputs": [
    {
     "name": "stdout",
     "output_type": "stream",
     "text": [
      "nonessential_reduc rate 0.08199999999999996\n"
     ]
    }
   ],
   "source": [
    "nonessential_reduc_rate = 1-(philly.total_interactions-nonessential_reduc)/philly.total_interactions\n",
    "print('nonessential_reduc rate', nonessential_reduc_rate)\n"
   ]
  },
  {
   "cell_type": "code",
   "execution_count": 94,
   "metadata": {},
   "outputs": [
    {
     "name": "stdout",
     "output_type": "stream",
     "text": [
      "sd_reduc rate 0.274\n"
     ]
    }
   ],
   "source": [
    "sd_reduc_rate = 1-(philly.total_interactions-sd_reduc)/philly.total_interactions\n",
    "print('sd_reduc rate', sd_reduc_rate)\n"
   ]
  },
  {
   "cell_type": "code",
   "execution_count": 96,
   "metadata": {},
   "outputs": [
    {
     "name": "stdout",
     "output_type": "stream",
     "text": [
      "pc_non_sd 0.39683333333333326\n"
     ]
    }
   ],
   "source": [
    "print('pc_non_sd', pc_reduc_rate+nonessential_reduc_rate+sd_reduc_rate)"
   ]
  },
  {
   "cell_type": "markdown",
   "metadata": {},
   "source": [
    "### TODO: \n",
    "* Create a class to generate kids_pc_reduc, nonessential_reduc, sd_reduc\n",
    "* Create class to generate pc_reduc_rate, nonessential_reduc_rate, sd_reduc_rate"
   ]
  }
 ],
 "metadata": {
  "kernelspec": {
   "display_name": "Python 3",
   "language": "python",
   "name": "python3"
  },
  "language_info": {
   "codemirror_mode": {
    "name": "ipython",
    "version": 3
   },
   "file_extension": ".py",
   "mimetype": "text/x-python",
   "name": "python",
   "nbconvert_exporter": "python",
   "pygments_lexer": "ipython3",
   "version": "3.7.6"
  }
 },
 "nbformat": 4,
 "nbformat_minor": 4
}
